{
 "cells": [
  {
   "cell_type": "markdown",
   "id": "391a8c84-cc09-4543-9ae3-82dd0adee4d0",
   "metadata": {
    "tags": []
   },
   "source": [
    "# Guided project : Movie recommendation"
   ]
  },
  {
   "cell_type": "markdown",
   "id": "117d68fb-c5f1-49fa-b01b-338f8cd2b0b5",
   "metadata": {},
   "source": [
    "**Dataset : https://files.grouplens.org/datasets/movielens/ml-25m.zip**"
   ]
  },
  {
   "cell_type": "code",
   "execution_count": 1,
   "id": "396cbe73-1c38-415b-a570-b39f8276c6db",
   "metadata": {
    "tags": []
   },
   "outputs": [],
   "source": [
    "import pandas as pd\n",
    "import re"
   ]
  },
  {
   "cell_type": "code",
   "execution_count": 2,
   "id": "96c12c0d-e6db-4463-820a-f2f083f3731d",
   "metadata": {
    "tags": []
   },
   "outputs": [],
   "source": [
    "#Importing dataset\n",
    "movies = pd.read_csv('RawData/movies.csv')"
   ]
  },
  {
   "cell_type": "code",
   "execution_count": 3,
   "id": "c7293aa6-1e2e-4c32-a2ac-d911022d8fce",
   "metadata": {
    "tags": []
   },
   "outputs": [],
   "source": [
    "#Creating backup\n",
    "movies.to_csv('RawData/moviesBackup.csv', index = True)"
   ]
  },
  {
   "cell_type": "code",
   "execution_count": 4,
   "id": "d1bebeba-ffb9-4a97-9e00-2fe8b9e14152",
   "metadata": {
    "tags": []
   },
   "outputs": [
    {
     "data": {
      "text/html": [
       "<div>\n",
       "<style scoped>\n",
       "    .dataframe tbody tr th:only-of-type {\n",
       "        vertical-align: middle;\n",
       "    }\n",
       "\n",
       "    .dataframe tbody tr th {\n",
       "        vertical-align: top;\n",
       "    }\n",
       "\n",
       "    .dataframe thead th {\n",
       "        text-align: right;\n",
       "    }\n",
       "</style>\n",
       "<table border=\"1\" class=\"dataframe\">\n",
       "  <thead>\n",
       "    <tr style=\"text-align: right;\">\n",
       "      <th></th>\n",
       "      <th>movieId</th>\n",
       "      <th>title</th>\n",
       "      <th>genres</th>\n",
       "    </tr>\n",
       "  </thead>\n",
       "  <tbody>\n",
       "    <tr>\n",
       "      <th>62418</th>\n",
       "      <td>209157</td>\n",
       "      <td>We (2018)</td>\n",
       "      <td>Drama</td>\n",
       "    </tr>\n",
       "    <tr>\n",
       "      <th>62419</th>\n",
       "      <td>209159</td>\n",
       "      <td>Window of the Soul (2001)</td>\n",
       "      <td>Documentary</td>\n",
       "    </tr>\n",
       "    <tr>\n",
       "      <th>62420</th>\n",
       "      <td>209163</td>\n",
       "      <td>Bad Poems (2018)</td>\n",
       "      <td>Comedy|Drama</td>\n",
       "    </tr>\n",
       "    <tr>\n",
       "      <th>62421</th>\n",
       "      <td>209169</td>\n",
       "      <td>A Girl Thing (2001)</td>\n",
       "      <td>(no genres listed)</td>\n",
       "    </tr>\n",
       "    <tr>\n",
       "      <th>62422</th>\n",
       "      <td>209171</td>\n",
       "      <td>Women of Devil's Island (1962)</td>\n",
       "      <td>Action|Adventure|Drama</td>\n",
       "    </tr>\n",
       "  </tbody>\n",
       "</table>\n",
       "</div>"
      ],
      "text/plain": [
       "       movieId                           title                  genres\n",
       "62418   209157                       We (2018)                   Drama\n",
       "62419   209159       Window of the Soul (2001)             Documentary\n",
       "62420   209163                Bad Poems (2018)            Comedy|Drama\n",
       "62421   209169             A Girl Thing (2001)      (no genres listed)\n",
       "62422   209171  Women of Devil's Island (1962)  Action|Adventure|Drama"
      ]
     },
     "execution_count": 4,
     "metadata": {},
     "output_type": "execute_result"
    }
   ],
   "source": [
    "#Checking data\n",
    "movies.tail()"
   ]
  },
  {
   "cell_type": "code",
   "execution_count": 5,
   "id": "5801c569-a338-45f0-9e14-5ecf1974d72b",
   "metadata": {
    "tags": []
   },
   "outputs": [
    {
     "data": {
      "text/html": [
       "<div>\n",
       "<style scoped>\n",
       "    .dataframe tbody tr th:only-of-type {\n",
       "        vertical-align: middle;\n",
       "    }\n",
       "\n",
       "    .dataframe tbody tr th {\n",
       "        vertical-align: top;\n",
       "    }\n",
       "\n",
       "    .dataframe thead th {\n",
       "        text-align: right;\n",
       "    }\n",
       "</style>\n",
       "<table border=\"1\" class=\"dataframe\">\n",
       "  <thead>\n",
       "    <tr style=\"text-align: right;\">\n",
       "      <th></th>\n",
       "      <th>movieId</th>\n",
       "      <th>title</th>\n",
       "      <th>genres</th>\n",
       "    </tr>\n",
       "  </thead>\n",
       "  <tbody>\n",
       "    <tr>\n",
       "      <th>0</th>\n",
       "      <td>1</td>\n",
       "      <td>Toy Story (1995)</td>\n",
       "      <td>Adventure|Animation|Children|Comedy|Fantasy</td>\n",
       "    </tr>\n",
       "    <tr>\n",
       "      <th>1</th>\n",
       "      <td>2</td>\n",
       "      <td>Jumanji (1995)</td>\n",
       "      <td>Adventure|Children|Fantasy</td>\n",
       "    </tr>\n",
       "    <tr>\n",
       "      <th>2</th>\n",
       "      <td>3</td>\n",
       "      <td>Grumpier Old Men (1995)</td>\n",
       "      <td>Comedy|Romance</td>\n",
       "    </tr>\n",
       "    <tr>\n",
       "      <th>3</th>\n",
       "      <td>4</td>\n",
       "      <td>Waiting to Exhale (1995)</td>\n",
       "      <td>Comedy|Drama|Romance</td>\n",
       "    </tr>\n",
       "    <tr>\n",
       "      <th>4</th>\n",
       "      <td>5</td>\n",
       "      <td>Father of the Bride Part II (1995)</td>\n",
       "      <td>Comedy</td>\n",
       "    </tr>\n",
       "  </tbody>\n",
       "</table>\n",
       "</div>"
      ],
      "text/plain": [
       "   movieId                               title  \\\n",
       "0        1                    Toy Story (1995)   \n",
       "1        2                      Jumanji (1995)   \n",
       "2        3             Grumpier Old Men (1995)   \n",
       "3        4            Waiting to Exhale (1995)   \n",
       "4        5  Father of the Bride Part II (1995)   \n",
       "\n",
       "                                        genres  \n",
       "0  Adventure|Animation|Children|Comedy|Fantasy  \n",
       "1                   Adventure|Children|Fantasy  \n",
       "2                               Comedy|Romance  \n",
       "3                         Comedy|Drama|Romance  \n",
       "4                                       Comedy  "
      ]
     },
     "execution_count": 5,
     "metadata": {},
     "output_type": "execute_result"
    }
   ],
   "source": [
    "movies.head()"
   ]
  },
  {
   "cell_type": "markdown",
   "id": "14023c93-38fd-4961-8481-7508f6b0e3a6",
   "metadata": {},
   "source": [
    "# Cleaning"
   ]
  },
  {
   "cell_type": "markdown",
   "id": "2ec4ea18-af0e-4ef2-b8ff-426d281db14c",
   "metadata": {},
   "source": [
    "**Clean the movie titles with regular expressions** \n",
    "\n",
    "Create a function that takes in a title and returns the cleaned title. It should remove any character that isn't a letter, digit, or a space."
   ]
  },
  {
   "cell_type": "code",
   "execution_count": 6,
   "id": "3e5a7670-377e-4d66-aab1-070850faa78b",
   "metadata": {
    "tags": []
   },
   "outputs": [],
   "source": [
    "#Creating two lists for the cleaned title and our future new Dates column\n",
    "titles = []\n",
    "dates = []\n",
    "    \n",
    "for element in movies['title']:\n",
    "    new_title = re.split('\\(', element)\n",
    "    if (len(new_title) ==2):\n",
    "        dates.append(new_title[1])\n",
    "        titles.append(new_title[0])\n",
    "    else:\n",
    "        titles.append(new_title[0])\n",
    "        dates.append(None)"
   ]
  },
  {
   "cell_type": "code",
   "execution_count": 7,
   "id": "1027b958-20e3-45aa-9386-1d27a01b08f2",
   "metadata": {
    "tags": []
   },
   "outputs": [
    {
     "name": "stdout",
     "output_type": "stream",
     "text": [
      "62423 62423\n"
     ]
    }
   ],
   "source": [
    "#Checking that everything has been added correctly by checking the two lists contain the same number of elements\n",
    "print (len(dates), len(titles))"
   ]
  },
  {
   "cell_type": "code",
   "execution_count": 8,
   "id": "fcfcbde6-d0f3-455a-a356-c5092ce48d4d",
   "metadata": {
    "tags": []
   },
   "outputs": [],
   "source": [
    "#Cleaning the two columns \n",
    "titles_cleaned = []\n",
    "dates_cleaned = []\n",
    "\n",
    "for element in titles:\n",
    "    element_cleaned = element.rstrip(' ')\n",
    "    titles_cleaned.append(element_cleaned)\n",
    "    \n",
    "for element in dates: \n",
    "    if element != None:\n",
    "        element_cleaned = element.rstrip(')')\n",
    "        dates_cleaned.append(element_cleaned)\n",
    "    else:\n",
    "        dates_cleaned.append(None)"
   ]
  },
  {
   "cell_type": "code",
   "execution_count": 9,
   "id": "55e044b4-a2da-498b-babf-123458e507b3",
   "metadata": {
    "tags": []
   },
   "outputs": [
    {
     "name": "stdout",
     "output_type": "stream",
     "text": [
      "62423 62423\n"
     ]
    }
   ],
   "source": [
    "print (len(dates_cleaned), len(titles_cleaned))"
   ]
  },
  {
   "cell_type": "code",
   "execution_count": 10,
   "id": "a340429c-9728-494d-8ca9-f8c8ebbec528",
   "metadata": {
    "tags": []
   },
   "outputs": [
    {
     "data": {
      "text/html": [
       "<div>\n",
       "<style scoped>\n",
       "    .dataframe tbody tr th:only-of-type {\n",
       "        vertical-align: middle;\n",
       "    }\n",
       "\n",
       "    .dataframe tbody tr th {\n",
       "        vertical-align: top;\n",
       "    }\n",
       "\n",
       "    .dataframe thead th {\n",
       "        text-align: right;\n",
       "    }\n",
       "</style>\n",
       "<table border=\"1\" class=\"dataframe\">\n",
       "  <thead>\n",
       "    <tr style=\"text-align: right;\">\n",
       "      <th></th>\n",
       "      <th>movieId</th>\n",
       "      <th>title</th>\n",
       "      <th>genres</th>\n",
       "      <th>dates</th>\n",
       "    </tr>\n",
       "  </thead>\n",
       "  <tbody>\n",
       "    <tr>\n",
       "      <th>0</th>\n",
       "      <td>1</td>\n",
       "      <td>Toy Story</td>\n",
       "      <td>Adventure|Animation|Children|Comedy|Fantasy</td>\n",
       "      <td>1995</td>\n",
       "    </tr>\n",
       "    <tr>\n",
       "      <th>1</th>\n",
       "      <td>2</td>\n",
       "      <td>Jumanji</td>\n",
       "      <td>Adventure|Children|Fantasy</td>\n",
       "      <td>1995</td>\n",
       "    </tr>\n",
       "    <tr>\n",
       "      <th>2</th>\n",
       "      <td>3</td>\n",
       "      <td>Grumpier Old Men</td>\n",
       "      <td>Comedy|Romance</td>\n",
       "      <td>1995</td>\n",
       "    </tr>\n",
       "    <tr>\n",
       "      <th>3</th>\n",
       "      <td>4</td>\n",
       "      <td>Waiting to Exhale</td>\n",
       "      <td>Comedy|Drama|Romance</td>\n",
       "      <td>1995</td>\n",
       "    </tr>\n",
       "    <tr>\n",
       "      <th>4</th>\n",
       "      <td>5</td>\n",
       "      <td>Father of the Bride Part II</td>\n",
       "      <td>Comedy</td>\n",
       "      <td>1995</td>\n",
       "    </tr>\n",
       "    <tr>\n",
       "      <th>...</th>\n",
       "      <td>...</td>\n",
       "      <td>...</td>\n",
       "      <td>...</td>\n",
       "      <td>...</td>\n",
       "    </tr>\n",
       "    <tr>\n",
       "      <th>62418</th>\n",
       "      <td>209157</td>\n",
       "      <td>We</td>\n",
       "      <td>Drama</td>\n",
       "      <td>2018</td>\n",
       "    </tr>\n",
       "    <tr>\n",
       "      <th>62419</th>\n",
       "      <td>209159</td>\n",
       "      <td>Window of the Soul</td>\n",
       "      <td>Documentary</td>\n",
       "      <td>2001</td>\n",
       "    </tr>\n",
       "    <tr>\n",
       "      <th>62420</th>\n",
       "      <td>209163</td>\n",
       "      <td>Bad Poems</td>\n",
       "      <td>Comedy|Drama</td>\n",
       "      <td>2018</td>\n",
       "    </tr>\n",
       "    <tr>\n",
       "      <th>62421</th>\n",
       "      <td>209169</td>\n",
       "      <td>A Girl Thing</td>\n",
       "      <td>(no genres listed)</td>\n",
       "      <td>2001</td>\n",
       "    </tr>\n",
       "    <tr>\n",
       "      <th>62422</th>\n",
       "      <td>209171</td>\n",
       "      <td>Women of Devil's Island</td>\n",
       "      <td>Action|Adventure|Drama</td>\n",
       "      <td>1962</td>\n",
       "    </tr>\n",
       "  </tbody>\n",
       "</table>\n",
       "<p>62423 rows × 4 columns</p>\n",
       "</div>"
      ],
      "text/plain": [
       "       movieId                        title  \\\n",
       "0            1                    Toy Story   \n",
       "1            2                      Jumanji   \n",
       "2            3             Grumpier Old Men   \n",
       "3            4            Waiting to Exhale   \n",
       "4            5  Father of the Bride Part II   \n",
       "...        ...                          ...   \n",
       "62418   209157                           We   \n",
       "62419   209159           Window of the Soul   \n",
       "62420   209163                    Bad Poems   \n",
       "62421   209169                 A Girl Thing   \n",
       "62422   209171      Women of Devil's Island   \n",
       "\n",
       "                                            genres dates  \n",
       "0      Adventure|Animation|Children|Comedy|Fantasy  1995  \n",
       "1                       Adventure|Children|Fantasy  1995  \n",
       "2                                   Comedy|Romance  1995  \n",
       "3                             Comedy|Drama|Romance  1995  \n",
       "4                                           Comedy  1995  \n",
       "...                                            ...   ...  \n",
       "62418                                        Drama  2018  \n",
       "62419                                  Documentary  2001  \n",
       "62420                                 Comedy|Drama  2018  \n",
       "62421                           (no genres listed)  2001  \n",
       "62422                       Action|Adventure|Drama  1962  \n",
       "\n",
       "[62423 rows x 4 columns]"
      ]
     },
     "execution_count": 10,
     "metadata": {},
     "output_type": "execute_result"
    }
   ],
   "source": [
    "#In the dataset, replacing Title column by the cleaned one and adding Dates column\n",
    "movies_cleaned = movies\n",
    "movies_cleaned['title'] = titles_cleaned\n",
    "movies_cleaned['dates'] = dates_cleaned\n",
    "\n",
    "movies_cleaned"
   ]
  },
  {
   "cell_type": "markdown",
   "id": "ebc94d4f-08a0-462b-8348-d451824fe2b1",
   "metadata": {
    "tags": []
   },
   "source": [
    "#  Creating a search engine"
   ]
  },
  {
   "cell_type": "markdown",
   "id": "05bf67e4-e8ef-4696-b7ab-988fa972ef31",
   "metadata": {
    "tags": []
   },
   "source": [
    "**Our search engine is to return the 5 nearest titles in the list of movies we provided.**\n",
    "\n",
    "**First step is creating a TF-IDF matrix. TF-IDF stands for *Term Frequency Inverse Document Frequency of records*.**\n",
    "\n",
    "**It is a statistical measure that evaluates how relevant a word is to a document in a collection of documents.\n",
    "This is done by multiplying two metrics:**\n",
    "- How many times a word appears in a document (the simplest being a raw count of instances a word appears in a document)\n",
    "- The inverse document frequency (how common or rare a word is in the entire document set) of the word across a set of documents"
   ]
  },
  {
   "cell_type": "code",
   "execution_count": 11,
   "id": "54878a04-b371-428e-ab33-cdadb870e65d",
   "metadata": {
    "tags": []
   },
   "outputs": [],
   "source": [
    "import sklearn\n",
    "from sklearn.feature_extraction.text import TfidfVectorizer"
   ]
  },
  {
   "cell_type": "markdown",
   "id": "a46beab5-9246-404d-9ffa-ae005b06dfe3",
   "metadata": {},
   "source": [
    "**TF-IDF vectorizer is used to tokenize the documents, learn the vocabulary and inverse the document frequency weightings, and allow to encode new documents.\n",
    "It will transform the text into meaningful representation of integers or numbers which is used to fit algorithm for predictions.**\n",
    "\n",
    "**The TfidfVectorizer converts a collection of raw documents into a matrix of TF-IDF features.**"
   ]
  },
  {
   "cell_type": "code",
   "execution_count": 12,
   "id": "6476d189-9f8b-4f7e-b10e-d59e48279f53",
   "metadata": {
    "tags": []
   },
   "outputs": [],
   "source": [
    "from sklearn.metrics.pairwise import cosine_similarity\n",
    "import numpy as np\n",
    "#np.set_printoptions(threshold=np.inf)\n",
    "\n",
    "#Initializing TfidVectorizer with a range of 1 to 2 words for engrams\n",
    "vectorizer = TfidfVectorizer(ngram_range = (1,2))\n",
    "#Turning our titles into a metric\n",
    "tfidf = vectorizer.fit_transform(movies_cleaned['title'])"
   ]
  },
  {
   "cell_type": "code",
   "execution_count": 13,
   "id": "eafbca80-f0d1-42cc-988c-c56fb8636b2f",
   "metadata": {
    "tags": []
   },
   "outputs": [],
   "source": [
    "def search_similar_movies(title):\n",
    "    query_vector = vectorizer.transform([title])\n",
    "    \n",
    "    #Computing the similarity between given title and the matrix, & flattening the result to one dimension :\n",
    "    #Returns an array which lenght is the same as the titles matrix and each index corresponds to the similarity between this index's title and the searched title\n",
    "    similarity = cosine_similarity(query_vector, tfidf).flatten()\n",
    "    \n",
    "    #Finding the 5 titles that have the greatest similarity with our searched title :\n",
    "    indices = np.argpartition(similarity, -5)[-5:]\n",
    "    results = movies_cleaned.iloc[indices].iloc[::-1]\n",
    "    print(pd.Series(results.title))\n",
    "   "
   ]
  },
  {
   "cell_type": "code",
   "execution_count": 14,
   "id": "559953bf-ea41-42c6-80ce-c4ae1c8630e1",
   "metadata": {
    "tags": []
   },
   "outputs": [
    {
     "name": "stdout",
     "output_type": "stream",
     "text": [
      "0                  Toy Story\n",
      "3021             Toy Story 2\n",
      "59767            Toy Story 4\n",
      "14813            Toy Story 3\n",
      "20497    Toy Story of Terror\n",
      "Name: title, dtype: object\n"
     ]
    }
   ],
   "source": [
    "search_similar_movies('toy story')"
   ]
  },
  {
   "cell_type": "markdown",
   "id": "ff779dea-94f1-4cd3-b696-fa175621295b",
   "metadata": {
    "tags": []
   },
   "source": [
    "# Creating recommendation system based on other users ratings"
   ]
  },
  {
   "cell_type": "markdown",
   "id": "2749d274-323b-4683-9db0-a4aa8cb5cc74",
   "metadata": {
    "tags": []
   },
   "source": [
    "**In the ratings.csv file, we have movie_id and rating. Each user has rated movies, and we can see how they rated them.**\n",
    "\n",
    "**We'll create a function to find all the users who also liked the movie that we typed in. \n",
    "Then we want to see the other movies they liked because those will probably be good recommendations for us.**"
   ]
  },
  {
   "cell_type": "code",
   "execution_count": 15,
   "id": "ca57df75-6ab2-4f89-91c4-968448297d1e",
   "metadata": {
    "tags": []
   },
   "outputs": [],
   "source": [
    "ratings = pd.read_csv('RawData/ratings.csv')"
   ]
  },
  {
   "cell_type": "code",
   "execution_count": 16,
   "id": "c998b50a-1086-4ef8-9f00-4e9d3417c168",
   "metadata": {
    "tags": []
   },
   "outputs": [
    {
     "data": {
      "text/html": [
       "<div>\n",
       "<style scoped>\n",
       "    .dataframe tbody tr th:only-of-type {\n",
       "        vertical-align: middle;\n",
       "    }\n",
       "\n",
       "    .dataframe tbody tr th {\n",
       "        vertical-align: top;\n",
       "    }\n",
       "\n",
       "    .dataframe thead th {\n",
       "        text-align: right;\n",
       "    }\n",
       "</style>\n",
       "<table border=\"1\" class=\"dataframe\">\n",
       "  <thead>\n",
       "    <tr style=\"text-align: right;\">\n",
       "      <th></th>\n",
       "      <th>userId</th>\n",
       "      <th>movieId</th>\n",
       "      <th>rating</th>\n",
       "      <th>timestamp</th>\n",
       "    </tr>\n",
       "  </thead>\n",
       "  <tbody>\n",
       "    <tr>\n",
       "      <th>0</th>\n",
       "      <td>1</td>\n",
       "      <td>296</td>\n",
       "      <td>5.0</td>\n",
       "      <td>1147880044</td>\n",
       "    </tr>\n",
       "    <tr>\n",
       "      <th>1</th>\n",
       "      <td>1</td>\n",
       "      <td>306</td>\n",
       "      <td>3.5</td>\n",
       "      <td>1147868817</td>\n",
       "    </tr>\n",
       "    <tr>\n",
       "      <th>2</th>\n",
       "      <td>1</td>\n",
       "      <td>307</td>\n",
       "      <td>5.0</td>\n",
       "      <td>1147868828</td>\n",
       "    </tr>\n",
       "    <tr>\n",
       "      <th>3</th>\n",
       "      <td>1</td>\n",
       "      <td>665</td>\n",
       "      <td>5.0</td>\n",
       "      <td>1147878820</td>\n",
       "    </tr>\n",
       "    <tr>\n",
       "      <th>4</th>\n",
       "      <td>1</td>\n",
       "      <td>899</td>\n",
       "      <td>3.5</td>\n",
       "      <td>1147868510</td>\n",
       "    </tr>\n",
       "    <tr>\n",
       "      <th>...</th>\n",
       "      <td>...</td>\n",
       "      <td>...</td>\n",
       "      <td>...</td>\n",
       "      <td>...</td>\n",
       "    </tr>\n",
       "    <tr>\n",
       "      <th>25000090</th>\n",
       "      <td>162541</td>\n",
       "      <td>50872</td>\n",
       "      <td>4.5</td>\n",
       "      <td>1240953372</td>\n",
       "    </tr>\n",
       "    <tr>\n",
       "      <th>25000091</th>\n",
       "      <td>162541</td>\n",
       "      <td>55768</td>\n",
       "      <td>2.5</td>\n",
       "      <td>1240951998</td>\n",
       "    </tr>\n",
       "    <tr>\n",
       "      <th>25000092</th>\n",
       "      <td>162541</td>\n",
       "      <td>56176</td>\n",
       "      <td>2.0</td>\n",
       "      <td>1240950697</td>\n",
       "    </tr>\n",
       "    <tr>\n",
       "      <th>25000093</th>\n",
       "      <td>162541</td>\n",
       "      <td>58559</td>\n",
       "      <td>4.0</td>\n",
       "      <td>1240953434</td>\n",
       "    </tr>\n",
       "    <tr>\n",
       "      <th>25000094</th>\n",
       "      <td>162541</td>\n",
       "      <td>63876</td>\n",
       "      <td>5.0</td>\n",
       "      <td>1240952515</td>\n",
       "    </tr>\n",
       "  </tbody>\n",
       "</table>\n",
       "<p>25000095 rows × 4 columns</p>\n",
       "</div>"
      ],
      "text/plain": [
       "          userId  movieId  rating   timestamp\n",
       "0              1      296     5.0  1147880044\n",
       "1              1      306     3.5  1147868817\n",
       "2              1      307     5.0  1147868828\n",
       "3              1      665     5.0  1147878820\n",
       "4              1      899     3.5  1147868510\n",
       "...          ...      ...     ...         ...\n",
       "25000090  162541    50872     4.5  1240953372\n",
       "25000091  162541    55768     2.5  1240951998\n",
       "25000092  162541    56176     2.0  1240950697\n",
       "25000093  162541    58559     4.0  1240953434\n",
       "25000094  162541    63876     5.0  1240952515\n",
       "\n",
       "[25000095 rows x 4 columns]"
      ]
     },
     "execution_count": 16,
     "metadata": {},
     "output_type": "execute_result"
    }
   ],
   "source": [
    "ratings"
   ]
  },
  {
   "cell_type": "markdown",
   "id": "ab7702b8-94cc-4f5f-857c-730745d60c49",
   "metadata": {
    "tags": []
   },
   "source": [
    "**Searching for users who liked the same movie we liked. Let's consider someone liked a movie gave it 4/5 rating or over.**"
   ]
  },
  {
   "cell_type": "code",
   "execution_count": 17,
   "id": "846ec625-f9ed-48a8-a403-c0b0159f145a",
   "metadata": {
    "tags": []
   },
   "outputs": [],
   "source": [
    "searched_movie_id = 1"
   ]
  },
  {
   "cell_type": "code",
   "execution_count": 18,
   "id": "24fc8d18-5341-439d-8fe3-1b8b95cdbafc",
   "metadata": {
    "tags": []
   },
   "outputs": [
    {
     "data": {
      "text/plain": [
       "array([     3,      5,      8, ..., 162530, 162533, 162534], dtype=int64)"
      ]
     },
     "execution_count": 18,
     "metadata": {},
     "output_type": "execute_result"
    }
   ],
   "source": [
    "most_liked_movies = ratings[ratings.rating >= 4]\n",
    "similar_users = most_liked_movies[most_liked_movies.movieId == searched_movie_id]['userId'].unique()\n",
    "similar_users"
   ]
  },
  {
   "cell_type": "markdown",
   "id": "d6e8b9e8-f1f5-4811-8004-5f1bb9f93492",
   "metadata": {
    "tags": []
   },
   "source": [
    "**Finding the other movies users also liked.**"
   ]
  },
  {
   "cell_type": "code",
   "execution_count": 19,
   "id": "14dc4971-38f4-4516-8384-9f857a207fee",
   "metadata": {
    "tags": []
   },
   "outputs": [
    {
     "data": {
      "text/html": [
       "<div>\n",
       "<style scoped>\n",
       "    .dataframe tbody tr th:only-of-type {\n",
       "        vertical-align: middle;\n",
       "    }\n",
       "\n",
       "    .dataframe tbody tr th {\n",
       "        vertical-align: top;\n",
       "    }\n",
       "\n",
       "    .dataframe thead th {\n",
       "        text-align: right;\n",
       "    }\n",
       "</style>\n",
       "<table border=\"1\" class=\"dataframe\">\n",
       "  <thead>\n",
       "    <tr style=\"text-align: right;\">\n",
       "      <th></th>\n",
       "      <th>userId</th>\n",
       "      <th>movieId</th>\n",
       "      <th>rating</th>\n",
       "      <th>timestamp</th>\n",
       "    </tr>\n",
       "  </thead>\n",
       "  <tbody>\n",
       "    <tr>\n",
       "      <th>254</th>\n",
       "      <td>3</td>\n",
       "      <td>1</td>\n",
       "      <td>4.0</td>\n",
       "      <td>1439472215</td>\n",
       "    </tr>\n",
       "    <tr>\n",
       "      <th>255</th>\n",
       "      <td>3</td>\n",
       "      <td>29</td>\n",
       "      <td>4.5</td>\n",
       "      <td>1484754967</td>\n",
       "    </tr>\n",
       "    <tr>\n",
       "      <th>256</th>\n",
       "      <td>3</td>\n",
       "      <td>32</td>\n",
       "      <td>4.5</td>\n",
       "      <td>1439474635</td>\n",
       "    </tr>\n",
       "    <tr>\n",
       "      <th>257</th>\n",
       "      <td>3</td>\n",
       "      <td>50</td>\n",
       "      <td>5.0</td>\n",
       "      <td>1439474391</td>\n",
       "    </tr>\n",
       "    <tr>\n",
       "      <th>258</th>\n",
       "      <td>3</td>\n",
       "      <td>111</td>\n",
       "      <td>4.0</td>\n",
       "      <td>1484753849</td>\n",
       "    </tr>\n",
       "    <tr>\n",
       "      <th>...</th>\n",
       "      <td>...</td>\n",
       "      <td>...</td>\n",
       "      <td>...</td>\n",
       "      <td>...</td>\n",
       "    </tr>\n",
       "    <tr>\n",
       "      <th>24999332</th>\n",
       "      <td>162534</td>\n",
       "      <td>166643</td>\n",
       "      <td>4.0</td>\n",
       "      <td>1526891765</td>\n",
       "    </tr>\n",
       "    <tr>\n",
       "      <th>24999342</th>\n",
       "      <td>162534</td>\n",
       "      <td>171763</td>\n",
       "      <td>4.0</td>\n",
       "      <td>1526717390</td>\n",
       "    </tr>\n",
       "    <tr>\n",
       "      <th>24999348</th>\n",
       "      <td>162534</td>\n",
       "      <td>177593</td>\n",
       "      <td>5.0</td>\n",
       "      <td>1526666314</td>\n",
       "    </tr>\n",
       "    <tr>\n",
       "      <th>24999351</th>\n",
       "      <td>162534</td>\n",
       "      <td>177765</td>\n",
       "      <td>4.0</td>\n",
       "      <td>1526666311</td>\n",
       "    </tr>\n",
       "    <tr>\n",
       "      <th>24999378</th>\n",
       "      <td>162534</td>\n",
       "      <td>198609</td>\n",
       "      <td>4.0</td>\n",
       "      <td>1549870359</td>\n",
       "    </tr>\n",
       "  </tbody>\n",
       "</table>\n",
       "<p>5101989 rows × 4 columns</p>\n",
       "</div>"
      ],
      "text/plain": [
       "          userId  movieId  rating   timestamp\n",
       "254            3        1     4.0  1439472215\n",
       "255            3       29     4.5  1484754967\n",
       "256            3       32     4.5  1439474635\n",
       "257            3       50     5.0  1439474391\n",
       "258            3      111     4.0  1484753849\n",
       "...          ...      ...     ...         ...\n",
       "24999332  162534   166643     4.0  1526891765\n",
       "24999342  162534   171763     4.0  1526717390\n",
       "24999348  162534   177593     5.0  1526666314\n",
       "24999351  162534   177765     4.0  1526666311\n",
       "24999378  162534   198609     4.0  1549870359\n",
       "\n",
       "[5101989 rows x 4 columns]"
      ]
     },
     "execution_count": 19,
     "metadata": {},
     "output_type": "execute_result"
    }
   ],
   "source": [
    "prefered_movies = most_liked_movies[(most_liked_movies['userId'].isin(similar_users))]\n",
    "prefered_movies"
   ]
  },
  {
   "cell_type": "markdown",
   "id": "94efe2d6-04bf-4322-8e5f-84b6e02d0b57",
   "metadata": {},
   "source": [
    "**Finding the 5 most appearing movies in each of the 3 highest ratings.**"
   ]
  },
  {
   "cell_type": "code",
   "execution_count": 20,
   "id": "008968b5-2335-4fab-b104-086200ec37b2",
   "metadata": {
    "tags": []
   },
   "outputs": [],
   "source": [
    "five_stars_ids = prefered_movies[prefered_movies['rating'] == 5]['movieId'].value_counts().index\n",
    "five_stars_selection_id = five_stars_ids[0:5]\n",
    "\n",
    "most_loved_movies = movies[movies['movieId'].isin(five_stars_selection_id)]['title']"
   ]
  },
  {
   "cell_type": "code",
   "execution_count": 21,
   "id": "2e38939a-4ce0-4d4d-b01b-03cf02b51a86",
   "metadata": {
    "tags": []
   },
   "outputs": [],
   "source": [
    "four_half_stars_ids = prefered_movies[prefered_movies.rating == 4.5]['movieId'].value_counts().index\n",
    "four_half_stars_selection_id = four_half_stars_ids[0:5]\n",
    "\n",
    "loved_movies = movies[movies['movieId'].isin(four_half_stars_selection_id)]['title']"
   ]
  },
  {
   "cell_type": "code",
   "execution_count": 22,
   "id": "7418b36a-de93-4563-b202-e87cc8663e3d",
   "metadata": {
    "tags": []
   },
   "outputs": [],
   "source": [
    "four_stars_ids = (prefered_movies[prefered_movies['rating'] == 4]['movieId'].value_counts()).index\n",
    "four_stars_selection_id = four_stars_ids[0:5]\n",
    "\n",
    "liked_movies = movies[movies['movieId'].isin(four_stars_selection_id)]['title']"
   ]
  },
  {
   "cell_type": "code",
   "execution_count": 25,
   "id": "42e54c0b-3551-4fc2-943d-f8619415db8d",
   "metadata": {
    "tags": []
   },
   "outputs": [
    {
     "name": "stdout",
     "output_type": "stream",
     "text": [
      "others like you watched this and also liked: 0                                            Toy Story\n",
      "257                 Star Wars: Episode IV - A New Hope\n",
      "292                                       Pulp Fiction\n",
      "314                          Shawshank Redemption, The\n",
      "1166    Star Wars: Episode V - The Empire Strikes Back\n",
      "351                                       Forrest Gump\n",
      "2480                                       Matrix, The\n",
      "452                                      Fugitive, The\n",
      "475                                      Jurassic Park\n",
      "1237                                Back to the Future\n",
      "Name: title, dtype: object\n"
     ]
    }
   ],
   "source": [
    "result_list = pd.concat([most_loved_movies, loved_movies, liked_movies]).drop_duplicates()\n",
    "print ('others like you watched this and also liked:', result_list)"
   ]
  },
  {
   "cell_type": "code",
   "execution_count": null,
   "id": "a41139cc-2993-4f9a-97ba-8dc0ce456ff9",
   "metadata": {},
   "outputs": [],
   "source": []
  }
 ],
 "metadata": {
  "kernelspec": {
   "display_name": "Python 3 (ipykernel)",
   "language": "python",
   "name": "python3"
  },
  "language_info": {
   "codemirror_mode": {
    "name": "ipython",
    "version": 3
   },
   "file_extension": ".py",
   "mimetype": "text/x-python",
   "name": "python",
   "nbconvert_exporter": "python",
   "pygments_lexer": "ipython3",
   "version": "3.11.5"
  }
 },
 "nbformat": 4,
 "nbformat_minor": 5
}
